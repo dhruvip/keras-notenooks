{
 "cells": [
  {
   "cell_type": "markdown",
   "id": "3194d580",
   "metadata": {},
   "source": [
    "#### Follows official tutorial for classificatiion from tensorflow here [https://www.tensorflow.org/tutorials/images/classification?hl=zh-cn]"
   ]
  },
  {
   "cell_type": "code",
   "execution_count": null,
   "id": "a02dda4f",
   "metadata": {},
   "outputs": [],
   "source": [
    "import matplotlib.pyplot as plt\n",
    "import numpy as np\n",
    "import os\n",
    "import PIL\n",
    "import tensorflow as tf\n",
    "\n",
    "from tensorflow import keras\n",
    "from tensorflow.keras import layers\n",
    "from tensorflow.keras.models import Sequential\n",
    "\n",
    "import pathlib"
   ]
  },
  {
   "cell_type": "markdown",
   "id": "4d9d4406",
   "metadata": {},
   "source": [
    "### first look at checking data"
   ]
  },
  {
   "cell_type": "code",
   "execution_count": null,
   "id": "fa5f8d1f",
   "metadata": {},
   "outputs": [],
   "source": [
    "\n",
    "data_dir = pathlib.Path('/Users/dhruvi/saltside/saltside-assets/v_data/train/')\n",
    "image_count = len(list(data_dir.glob('*/*/*.jpg')))\n",
    "# print(image_count)\n",
    "cars = list(data_dir.glob('cars/*'))\n",
    "PIL.Image.open(str(cars[0]))"
   ]
  },
  {
   "cell_type": "code",
   "execution_count": null,
   "id": "43648097",
   "metadata": {},
   "outputs": [],
   "source": [
    "from keras.preprocessing.image import load_img\n",
    "img = load_img(cars[0])\n",
    "print(img.__array__)"
   ]
  },
  {
   "cell_type": "code",
   "execution_count": null,
   "id": "c59ac9f1",
   "metadata": {},
   "outputs": [],
   "source": [
    "dir(img)"
   ]
  },
  {
   "cell_type": "markdown",
   "id": "33a9cc47",
   "metadata": {},
   "source": [
    "### Loading data using Keras utility"
   ]
  },
  {
   "cell_type": "code",
   "execution_count": null,
   "id": "e046bd0b",
   "metadata": {},
   "outputs": [],
   "source": [
    "batch_size = 32\n",
    "img_height = 224\n",
    "img_width = 224\n"
   ]
  },
  {
   "cell_type": "code",
   "execution_count": null,
   "id": "b2ca0622",
   "metadata": {},
   "outputs": [],
   "source": [
    "train_ds = tf.keras.utils.image_dataset_from_directory(\n",
    "    data_dir,\n",
    "    validation_split = 0.2,\n",
    "    subset=\"training\",\n",
    "    seed=123,\n",
    "    image_size=(img_height,img_width),\n",
    "    batch_size = batch_size\n",
    ")"
   ]
  },
  {
   "cell_type": "code",
   "execution_count": null,
   "id": "f5350aab",
   "metadata": {},
   "outputs": [],
   "source": [
    "val_ds = tf.keras.utils.image_dataset_from_directory(\n",
    "    data_dir,\n",
    "    validation_split = 0.2,\n",
    "    subset=\"validation\",\n",
    "    seed=123,\n",
    "    image_size=(img_height,img_width),\n",
    "    batch_size = batch_size\n",
    ")"
   ]
  },
  {
   "cell_type": "code",
   "execution_count": null,
   "id": "11188a53",
   "metadata": {},
   "outputs": [],
   "source": [
    "class_names = train_ds.class_names\n",
    "print(train_ds.class_names)\n"
   ]
  },
  {
   "cell_type": "markdown",
   "id": "ee1b38e4",
   "metadata": {},
   "source": [
    "### Visualize the data"
   ]
  },
  {
   "cell_type": "code",
   "execution_count": null,
   "id": "30d36567",
   "metadata": {},
   "outputs": [],
   "source": [
    "import matplotlib.pyplot as plt\n",
    "\n",
    "plt.figure(figsize=(10,10))\n",
    "for images, labels in train_ds.take(1):\n",
    "    for i in range(9):\n",
    "        ax = plt.subplot(3,3,i+1)\n",
    "        plt.imshow(images[i].numpy().astype(\"uint8\"))\n",
    "        plt.title(class_names[labels[i]])\n",
    "        plt.axis(\"off\")"
   ]
  },
  {
   "cell_type": "code",
   "execution_count": null,
   "id": "fc593e1a",
   "metadata": {},
   "outputs": [],
   "source": [
    "for image_batch, labels_batch in train_ds:\n",
    "    print(image_batch.shape)\n",
    "    print(labels_batch.shape)\n",
    "    break"
   ]
  },
  {
   "cell_type": "markdown",
   "id": "c352a218",
   "metadata": {},
   "source": [
    "### Configure dataset for performance; so io doesnt become blocking"
   ]
  },
  {
   "cell_type": "code",
   "execution_count": null,
   "id": "566bee7f",
   "metadata": {},
   "outputs": [],
   "source": [
    "AUTOTUNE = tf.data.AUTOTUNE\n",
    "\n",
    "train_ds = train_ds.cache().shuffle(1000).prefetch(buffer_size=AUTOTUNE)\n",
    "val_ds = val_ds.cache().prefetch(buffer_size = AUTOTUNE)\n"
   ]
  },
  {
   "cell_type": "markdown",
   "id": "445eb05e",
   "metadata": {},
   "source": [
    "### Standardize the data"
   ]
  },
  {
   "cell_type": "code",
   "execution_count": null,
   "id": "f3c5d349",
   "metadata": {},
   "outputs": [],
   "source": [
    "# you can apply a layer to a dataset with dataset.map or use that layer in model def\n",
    "normalization_layer =layers.Rescaling(1. /255)\n",
    "normalized_ds = train_ds.map(lambda x, y: (normalization_layer(x),y))\n",
    "image_batch, label_batch = next(iter(normalized_ds))\n",
    "\n",
    "plt.imshow(image_batch[0], cmap=plt.cm.binary)\n",
    "plt.show()\n",
    "print(np.min(image_batch[0]),np.max(image_batch[0]))"
   ]
  },
  {
   "cell_type": "markdown",
   "id": "427eda25",
   "metadata": {},
   "source": [
    "### Create a model"
   ]
  },
  {
   "cell_type": "code",
   "execution_count": null,
   "id": "64975633",
   "metadata": {},
   "outputs": [],
   "source": [
    "num_classes = len(class_names)\n",
    "\n",
    "model = Sequential([\n",
    "    layers.Rescaling(1./255, input_shape=(img_height,img_width,3)),\n",
    "    layers.Conv2D(16,3,padding='same',activation='relu'),\n",
    "    layers.MaxPooling2D(),\n",
    "    layers.Conv2D(32,3,padding='same',activation='relu'),\n",
    "    layers.MaxPooling2D(),\n",
    "    layers.Conv2D(64,3,padding='same',activation='relu'),\n",
    "    layers.MaxPooling2D(),\n",
    "    layers.Flatten(),\n",
    "    layers.Dense(128,activation='relu'),\n",
    "    layers.Dense(num_classes)\n",
    "])"
   ]
  },
  {
   "cell_type": "markdown",
   "id": "06172ef3",
   "metadata": {},
   "source": [
    "### Compile model"
   ]
  },
  {
   "cell_type": "code",
   "execution_count": null,
   "id": "7e97d09e",
   "metadata": {},
   "outputs": [],
   "source": [
    "model.compile(\n",
    "    optimizer='adam',\n",
    "    loss = tf.keras.losses.SparseCategoricalCrossentropy(from_logits=True),\n",
    "    metrics=['accuracy']\n",
    ")\n",
    "model.summary()"
   ]
  },
  {
   "cell_type": "markdown",
   "id": "a3c1b611",
   "metadata": {},
   "source": [
    "### Train the model"
   ]
  },
  {
   "cell_type": "code",
   "execution_count": null,
   "id": "481925f3",
   "metadata": {},
   "outputs": [],
   "source": [
    "epochs = 10\n",
    "history = model.fit(\n",
    "    train_ds,\n",
    "    validation_data=val_ds,\n",
    "    epochs=epochs\n",
    ")"
   ]
  },
  {
   "cell_type": "markdown",
   "id": "fbf4514b",
   "metadata": {},
   "source": [
    "\n",
    "### Visualize the training results"
   ]
  },
  {
   "cell_type": "code",
   "execution_count": null,
   "id": "5c8d68c3",
   "metadata": {},
   "outputs": [],
   "source": [
    "acc = history.history['accuracy']\n",
    "val_acc = history.history['val_accuracy']\n",
    "\n",
    "loss = history.history['loss']\n",
    "val_loss = history.history['val_loss']\n",
    "\n",
    "epoch_range = range(epochs)\n",
    "\n",
    "plt.figure(figsize=(16,4))\n",
    "plt.subplot(1,2,1)\n",
    "plt.plot(epoch_range, acc, label='Trainiing accuracy')\n",
    "plt.plot(epoch_range, val_acc, label = 'Validation Accuracy')\n",
    "plt.legend(loc='lower right')\n",
    "plt.title('Training and validation accuracy')\n",
    "\n",
    "plt.subplot(1,2,2)\n",
    "plt.plot(epoch_range, loss, label='Trainiing Loss')\n",
    "plt.plot(epoch_range, val_loss, label = 'Validation Loss')\n",
    "plt.legend(loc='lower right')\n",
    "plt.title('Training and validation Loss')\n",
    "\n",
    "plt.show()\n"
   ]
  },
  {
   "cell_type": "markdown",
   "id": "b0768adc",
   "metadata": {},
   "source": [
    "##### Note: the model has achieved only 60% accuracy on the validation set; and the training and validation accuracy are off by large margin"
   ]
  },
  {
   "cell_type": "markdown",
   "id": "a80a87d1",
   "metadata": {},
   "source": [
    "### Getting results "
   ]
  },
  {
   "cell_type": "code",
   "execution_count": null,
   "id": "cd79c0e5",
   "metadata": {},
   "outputs": [],
   "source": [
    "data_augmentation = keras.Sequential([\n",
    "    layers.RandomFlip(\"horizontal\",\n",
    "                     input_shape=(img_height,img_width,3)),\n",
    "    layers.RandomRotation(0.1),\n",
    "    layers.RandomZoom(0.1)\n",
    "])"
   ]
  },
  {
   "cell_type": "code",
   "execution_count": null,
   "id": "e8ccda14",
   "metadata": {},
   "outputs": [],
   "source": [
    "num_classes = len(class_names)\n",
    "model = Sequential([\n",
    "    data_augmentation,\n",
    "    layers.Rescaling(1./255, input_shape=(img_height,img_width,3)),\n",
    "    layers.Conv2D(16,3,padding='same',activation='relu'),\n",
    "    layers.MaxPooling2D(),\n",
    "    layers.Conv2D(32,3,padding='same',activation='relu'),\n",
    "    layers.MaxPooling2D(),\n",
    "    layers.Conv2D(64,3,padding='same',activation='relu'),\n",
    "    layers.MaxPooling2D(),\n",
    "    layers.Dropout(0.2),\n",
    "    layers.Flatten(),\n",
    "    layers.Dense(128,activation='relu'),\n",
    "    layers.Dense(num_classes)\n",
    "])\n",
    "\n",
    "model.compile(\n",
    "    optimizer='adam',\n",
    "    loss = tf.keras.losses.SparseCategoricalCrossentropy(from_logits=True),\n",
    "    metrics=['accuracy']\n",
    ")\n",
    "\n",
    "epochs = 10\n",
    "history = model.fit(\n",
    "    train_ds,\n",
    "    validation_data=val_ds,\n",
    "    epochs=epochs\n",
    ")"
   ]
  },
  {
   "cell_type": "markdown",
   "id": "8a00c024",
   "metadata": {},
   "source": [
    "### Predict on new data"
   ]
  },
  {
   "cell_type": "code",
   "execution_count": null,
   "id": "0ae29434",
   "metadata": {},
   "outputs": [],
   "source": [
    "img = tf.keras.utils.load_img(\n",
    "    '/Users/dhruvi/saltside/saltside-assets/v_data/onlineImages/8.jpeg',\n",
    "    target_size=(img_height,img_width)\n",
    ")\n",
    "\n",
    "img_array = tf.keras.utils.img_to_array(img)\n",
    "img_array = tf.expand_dims(img_array, 0) # Create a batch\n",
    "\n",
    "predictions = model.predict(img_array)\n",
    "score = tf.nn.softmax(predictions[0])\n",
    "\n",
    "plt.imshow(img)\n",
    "plt.show()\n",
    "print(f'Class: {class_names[np.argmax(score)]} Score: {100*np.max(score)}')"
   ]
  },
  {
   "cell_type": "code",
   "execution_count": null,
   "id": "2d7c71a1",
   "metadata": {},
   "outputs": [],
   "source": [
    "import pprint\n",
    "pprint.pprint(model.to_json())"
   ]
  }
 ],
 "metadata": {
  "kernelspec": {
   "display_name": "Python 3 (ipykernel)",
   "language": "python",
   "name": "python3"
  },
  "language_info": {
   "codemirror_mode": {
    "name": "ipython",
    "version": 3
   },
   "file_extension": ".py",
   "mimetype": "text/x-python",
   "name": "python",
   "nbconvert_exporter": "python",
   "pygments_lexer": "ipython3",
   "version": "3.9.8"
  }
 },
 "nbformat": 4,
 "nbformat_minor": 5
}
